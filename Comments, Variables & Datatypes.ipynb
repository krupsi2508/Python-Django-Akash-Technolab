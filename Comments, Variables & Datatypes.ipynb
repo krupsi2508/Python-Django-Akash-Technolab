{
 "cells": [
  {
   "cell_type": "code",
   "execution_count": 1,
   "metadata": {},
   "outputs": [
    {
     "name": "stdout",
     "output_type": "stream",
     "text": [
      "Addition =  43\n",
      "Subtraction =  7\n",
      "Multiplication =  450\n",
      "Division =  1.3888888888888888\n",
      "Modulo =  7\n"
     ]
    }
   ],
   "source": [
    "#operations\n",
    "a=25\n",
    "b=18\n",
    "print(\"Addition = \",a+b)\n",
    "print(\"Subtraction = \",a-b)\n",
    "print(\"Multiplication = \",a*b)\n",
    "print(\"Division = \",a/b)\n",
    "print(\"Modulo = \",a%b)"
   ]
  },
  {
   "cell_type": "code",
   "execution_count": 2,
   "metadata": {},
   "outputs": [
    {
     "name": "stdout",
     "output_type": "stream",
     "text": [
      "Value of a is  22\n",
      "Value of b is  python Django\n"
     ]
    }
   ],
   "source": [
    "#accessing_variables\n",
    "a=25\n",
    "b=\"python Django\"\n",
    "a=22\n",
    "print(\"Value of a is \",a)\n",
    "print(\"Value of b is \",b)"
   ]
  },
  {
   "cell_type": "code",
   "execution_count": 3,
   "metadata": {},
   "outputs": [
    {
     "name": "stdout",
     "output_type": "stream",
     "text": [
      "18\n",
      "18\n",
      "18\n"
     ]
    }
   ],
   "source": [
    "a=b=c=18\n",
    "print(a)\n",
    "print(b)\n",
    "print(c)"
   ]
  },
  {
   "cell_type": "code",
   "execution_count": 4,
   "metadata": {},
   "outputs": [
    {
     "name": "stdout",
     "output_type": "stream",
     "text": [
      "1190 is of type <class 'int'>\n",
      "python is of type <class 'str'>\n",
      "1.1 is of type <class 'float'>\n",
      "(1+2j) is of type <class 'complex'>\n",
      "1190 is int? True\n",
      "python is int? False\n"
     ]
    }
   ],
   "source": [
    "#datatypes\n",
    "x=1190\n",
    "print(x, \"is of type\", type(x))\n",
    "\n",
    "y=\"python\"\n",
    "print(y, \"is of type\", type(y))\n",
    "\n",
    "z=1.1\n",
    "print(z, \"is of type\", type(z))\n",
    "\n",
    "a=1+2j \n",
    "print(a, \"is of type\", type(a))\n",
    "\n",
    "print(x, \"is int?\", isinstance(11,int))\n",
    "print(y, \"is int?\", isinstance(\"python\",int))"
   ]
  },
  {
   "cell_type": "code",
   "execution_count": 22,
   "metadata": {},
   "outputs": [
    {
     "name": "stdout",
     "output_type": "stream",
     "text": [
      "Course is  python\n",
      "y\n",
      "pyt\n",
      "hon\n",
      "pytho\n",
      "pythonpythonpython\n",
      "pythonProgramming\n"
     ]
    }
   ],
   "source": [
    "#strings\n",
    "course=\"python\"\n",
    "print(\"Course is \",course)\n",
    "\n",
    "#accessing through index\n",
    "print(course[1])\n",
    "\n",
    "#slicing \n",
    "print(course[0:3])\n",
    "print(course[3:])\n",
    "print(course[:5])\n",
    "\n",
    "#repetition of string\n",
    "print(course * 3)\n",
    "\n",
    "#concatination\n",
    "print(course + \"Programming\")"
   ]
  },
  {
   "cell_type": "code",
   "execution_count": 25,
   "metadata": {},
   "outputs": [
    {
     "name": "stdout",
     "output_type": "stream",
     "text": [
      "[11, 2.3, 'python', 10, 45, 7.7, 'programming', 0.11]\n",
      "<class 'list'>\n",
      "7.7\n",
      "[10, 45, 7.7]\n",
      "['programming', 0.11]\n",
      "[11, 2.3, 'python', 10]\n"
     ]
    }
   ],
   "source": [
    "#lists\n",
    "l1 = [11,2.3,\"python\",10,45,7.7,\"programming\",0.11]\n",
    "print(l1)\n",
    "print(type(l1))\n",
    "\n",
    "#accessing through index\n",
    "print(l1[5])\n",
    "\n",
    "#slicing \n",
    "print(l1[3:6])\n",
    "print(l1[6:])\n",
    "print(l1[:4])"
   ]
  },
  {
   "cell_type": "code",
   "execution_count": 30,
   "metadata": {},
   "outputs": [
    {
     "name": "stdout",
     "output_type": "stream",
     "text": [
      "(10, 0.45, 2, 'python', 789)\n",
      "<class 'tuple'>\n",
      "2\n",
      "('python',)\n",
      "(2, 'python', 789)\n",
      "(10, 0.45)\n"
     ]
    }
   ],
   "source": [
    "#tuples\n",
    "t1 = (10,0.45,2,\"python\",789)\n",
    "print(t1)\n",
    "print(type(t1))\n",
    "\n",
    "#accessing through index\n",
    "print(t1[2])\n",
    "\n",
    "#slicing \n",
    "print(t1[3:4])\n",
    "print(t1[2:])\n",
    "print(t1[:2])"
   ]
  },
  {
   "cell_type": "code",
   "execution_count": 38,
   "metadata": {},
   "outputs": [
    {
     "name": "stdout",
     "output_type": "stream",
     "text": [
      "{1: 'python', 'k1': 145, 'k2': 3, 'k3': 9.87, 2: 'programming', 'k4': 2100, 'k5': 5.9}\n",
      "<class 'dict'>\n",
      "145\n"
     ]
    }
   ],
   "source": [
    "#dictionary\n",
    "d1={1:\"python\",\"k1\":145, \"k2\":3, \"k3\":9.87, 2:\"programming\", \"k4\":2100, \"k5\":5.9}\n",
    "print(d1)\n",
    "print(type(d1))\n",
    "\n",
    "#accessing through key\n",
    "print(d1[\"k1\"])"
   ]
  }
 ],
 "metadata": {
  "kernelspec": {
   "display_name": "Python 3",
   "language": "python",
   "name": "python3"
  },
  "language_info": {
   "codemirror_mode": {
    "name": "ipython",
    "version": 3
   },
   "file_extension": ".py",
   "mimetype": "text/x-python",
   "name": "python",
   "nbconvert_exporter": "python",
   "pygments_lexer": "ipython3",
   "version": "3.9.4"
  }
 },
 "nbformat": 4,
 "nbformat_minor": 4
}
