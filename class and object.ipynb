{
 "cells": [
  {
   "cell_type": "code",
   "execution_count": 52,
   "id": "fd115409",
   "metadata": {},
   "outputs": [
    {
     "name": "stdout",
     "output_type": "stream",
     "text": [
      "30\n"
     ]
    }
   ],
   "source": [
    "\"\"\" Create a class cal1 that will calculate sum of three numbers. Create\n",
    "setdata() method which has three parameters that contain numbers.\n",
    "Create display() method that will calculate sum and display sum.\"\"\"\n",
    "\n",
    "class cal1():\n",
    "    def fun1(self,x,y):\n",
    "        ans = x + y\n",
    "        print(ans)\n",
    "c1 = cal1()\n",
    "c1.fun1(10,20)"
   ]
  },
  {
   "cell_type": "code",
   "execution_count": 64,
   "id": "1971c3b2",
   "metadata": {},
   "outputs": [
    {
     "name": "stdout",
     "output_type": "stream",
     "text": [
      "Enter the radius of circle...4\n",
      "the radius you entered is  4\n",
      "Area of circle is\n",
      "50.26548245743669\n"
     ]
    }
   ],
   "source": [
    "\"\"\"\"Create a class cal2 that will calculate area of a circle. Create setdata()\n",
    "method that should take radius from the user. Create area() method\n",
    "that will calculate area . Create display() method that will display area .\"\"\"\n",
    "\n",
    "import math\n",
    "class circle():\n",
    "        def __init__(self,my_radius):\n",
    "            self.radius=my_radius\n",
    "        def area_calculate(self):\n",
    "            return math.pi*(self.radius**2)\n",
    "r = int(input(\"Enter the radius of circle...\"))   \n",
    "c1 = circle(r)\n",
    "print(\"the radius you entered is \",r)\n",
    "print(\"Area of circle is\")\n",
    "print(c1.area_calculate())\n",
    "        \n",
    "        \n",
    "        \n"
   ]
  },
  {
   "cell_type": "code",
   "execution_count": 78,
   "id": "ba330036",
   "metadata": {},
   "outputs": [
    {
     "name": "stdout",
     "output_type": "stream",
     "text": [
      "Simple Interest =  300.0\n"
     ]
    }
   ],
   "source": [
    "\"\"\"Create a class cal3 that will calculate simple interest. Create\n",
    "constructor method which has three parameters .Create calInterest()\n",
    "method that will calculate Interest . Create display() method that will\n",
    "display Interest.\"\"\" \n",
    "class cal3():\n",
    "        def __init__(self,P,N,R):\n",
    "            SI = P * N * R /100\n",
    "            print(\"Simple Interest = \",SI)\n",
    "c1 = cal3(1000,10,3)            \n",
    "\n",
    "\n",
    "\n",
    "\n"
   ]
  },
  {
   "cell_type": "code",
   "execution_count": 81,
   "id": "eb949011",
   "metadata": {},
   "outputs": [
    {
     "name": "stdout",
     "output_type": "stream",
     "text": [
      "square =  16\n"
     ]
    }
   ],
   "source": [
    "\"\"\"Create a class cal4 that will calculate square of a number. Create\n",
    "setdata() method which has one parameters that contain number.\n",
    "Create display() method that will calculate sum.(Function should\n",
    "return value)\"\"\"\n",
    "class cal4():\n",
    "    \n",
    "    def setdata(self,n):\n",
    "        r = n * n\n",
    "        print(\"square = \",r)\n",
    "        \n",
    "c1 = cal4()\n",
    "c1.setdata(4)\n",
    "        \n",
    "        \n",
    "        \n",
    "    "
   ]
  },
  {
   "cell_type": "code",
   "execution_count": 86,
   "id": "bbe29abd",
   "metadata": {},
   "outputs": [
    {
     "name": "stdout",
     "output_type": "stream",
     "text": [
      "Rahul\n",
      "886012\n"
     ]
    }
   ],
   "source": [
    "\"\"\"Consider an employee class, which contains fields such as name and\n",
    "designation. And a subclass, which contains a field salary. Write a\n",
    "program for inheriting this relation.\"\"\"\n",
    "\n",
    "# Python code to demonstrate how parent constructors\n",
    "# are called.\n",
    "\n",
    "# parent class\n",
    "class Person( object ):\t\n",
    "\n",
    "\t\t# __init__ is known as the constructor\t\t\n",
    "\t\tdef __init__(self, name, idnumber):\n",
    "\t\t\t\tself.name = name\n",
    "\t\t\t\tself.idnumber = idnumber\n",
    "\t\tdef display(self):\n",
    "\t\t\t\tprint(self.name)\n",
    "\t\t\t\tprint(self.idnumber)\n",
    "\n",
    "# child class\n",
    "class Employee( Person ):\t\t\n",
    "\t\tdef __init__(self, name, idnumber, salary, post):\n",
    "\t\t\t\tself.salary = salary\n",
    "\t\t\t\tself.post = post\n",
    "\n",
    "\t\t\t\t# invoking the __init__ of the parent class\n",
    "\t\t\t\tPerson.__init__(self, name, idnumber)\n",
    "\n",
    "\t\t\t\t\n",
    "# creation of an object variable or an instance\n",
    "a = Employee('Rahul', 886012, 200000, \"Intern\")\t\n",
    "\n",
    "# calling a function of the class Person using its instance\n",
    "a.display()\n",
    "\n",
    "        "
   ]
  },
  {
   "cell_type": "code",
   "execution_count": 87,
   "id": "e3a80294",
   "metadata": {},
   "outputs": [
    {
     "name": "stdout",
     "output_type": "stream",
     "text": [
      "Area of rectangle: 50\n"
     ]
    }
   ],
   "source": [
    "\"\"\"Create a class cal5 that will calculate area of a rectangle. Create\n",
    "constructor method which has two parameters .Create calArea()\n",
    "method that will calculate area of a rectangle. Create display() method\n",
    "that will display area of a rectangle. \"\"\"\n",
    "class cal5():\n",
    "    def __init__(self,l,b):\n",
    "        self.l = l\n",
    "        self.b = b\n",
    "    def calArea(self):\n",
    "        return self.l*self.b\n",
    "c1 = cal5(10,5)\n",
    "print(\"Area of rectangle:\",c1.calArea())\n",
    "\n",
    "    \n"
   ]
  },
  {
   "cell_type": "code",
   "execution_count": null,
   "id": "349d803d",
   "metadata": {},
   "outputs": [],
   "source": []
  }
 ],
 "metadata": {
  "kernelspec": {
   "display_name": "Python 3",
   "language": "python",
   "name": "python3"
  },
  "language_info": {
   "codemirror_mode": {
    "name": "ipython",
    "version": 3
   },
   "file_extension": ".py",
   "mimetype": "text/x-python",
   "name": "python",
   "nbconvert_exporter": "python",
   "pygments_lexer": "ipython3",
   "version": "3.9.4"
  }
 },
 "nbformat": 4,
 "nbformat_minor": 5
}
