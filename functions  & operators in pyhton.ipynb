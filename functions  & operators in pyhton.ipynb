{
 "cells": [
  {
   "cell_type": "code",
   "execution_count": 1,
   "id": "78ac8cf4",
   "metadata": {},
   "outputs": [
    {
     "name": "stdout",
     "output_type": "stream",
     "text": [
      "Myself Hello\n"
     ]
    }
   ],
   "source": [
    "def hello():\n",
    "    print(\"Myself Hello\")\n",
    "hello()    "
   ]
  },
  {
   "cell_type": "code",
   "execution_count": 2,
   "id": "ad5486da",
   "metadata": {},
   "outputs": [
    {
     "name": "stdout",
     "output_type": "stream",
     "text": [
      "first name=Krupa\n",
      "last name=Patel\n",
      "first name=Viru\n",
      "last name=Patel\n"
     ]
    }
   ],
   "source": [
    "def intro(fname,lname):\n",
    "    print(\"first name=\"+fname)\n",
    "    print(\"last name=\"+lname)\n",
    "intro(\"Krupa\",\"Patel\")\n",
    "intro(\"Viru\",\"Patel\")"
   ]
  },
  {
   "cell_type": "code",
   "execution_count": 3,
   "id": "6d9ba453",
   "metadata": {},
   "outputs": [
    {
     "name": "stdout",
     "output_type": "stream",
     "text": [
      "The youngest child is Emil\n"
     ]
    }
   ],
   "source": [
    "def my_function(*kids):\n",
    "  print(\"The youngest child is \" + kids[0])\n",
    "\n",
    "my_function(\"Emil\", \"Tobias\", \"Linus\")"
   ]
  },
  {
   "cell_type": "code",
   "execution_count": 4,
   "id": "90e8dbbd",
   "metadata": {},
   "outputs": [
    {
     "name": "stdout",
     "output_type": "stream",
     "text": [
      "The best model is Bugati\n"
     ]
    }
   ],
   "source": [
    "def cars(*model):\n",
    "    print(\"The best model is \" + model[2])\n",
    "cars(\"BMW\",\"Mercedes\",\"Bugati\")    "
   ]
  },
  {
   "cell_type": "code",
   "execution_count": 5,
   "id": "b6b16f18",
   "metadata": {},
   "outputs": [
    {
     "name": "stdout",
     "output_type": "stream",
     "text": [
      "His last name is Refsnes\n"
     ]
    }
   ],
   "source": [
    "def my_function(**kid):\n",
    "  print(\"His last name is \" + kid[\"lname\"])\n",
    "\n",
    "my_function(fname = \"Tobias\", lname = \"Refsnes\")\n"
   ]
  },
  {
   "cell_type": "code",
   "execution_count": 6,
   "id": "77188265",
   "metadata": {},
   "outputs": [
    {
     "name": "stdout",
     "output_type": "stream",
     "text": [
      "I am from Sweden\n",
      "I am from India\n",
      "I am from Norway\n",
      "I am from Brazil\n"
     ]
    }
   ],
   "source": [
    "def my_function(country = \"Norway\"):\n",
    "  print(\"I am from \" + country)\n",
    "\n",
    "my_function(\"Sweden\")\n",
    "my_function(\"India\")\n",
    "my_function()\n",
    "my_function(\"Brazil\")"
   ]
  },
  {
   "cell_type": "code",
   "execution_count": 7,
   "id": "ce526717",
   "metadata": {},
   "outputs": [
    {
     "name": "stdout",
     "output_type": "stream",
     "text": [
      "apple\n",
      "banana\n",
      "cherry\n"
     ]
    }
   ],
   "source": [
    "def my_function(food):\n",
    "  for x in food:\n",
    "    print(x)\n",
    "\n",
    "fruits = [\"apple\", \"banana\", \"cherry\"]\n",
    "\n",
    "my_function(fruits)"
   ]
  },
  {
   "cell_type": "code",
   "execution_count": 8,
   "id": "babda912",
   "metadata": {},
   "outputs": [
    {
     "name": "stdout",
     "output_type": "stream",
     "text": [
      "mercedes\n",
      "BMW\n",
      "Jaguar\n",
      "Bugati\n"
     ]
    }
   ],
   "source": [
    "def Vehicels(cars):\n",
    "    for x in cars:\n",
    "        print(x)\n",
    "car = [\"mercedes\",\"BMW\",\"Jaguar\",\"Bugati\"]\n",
    "Vehicels(car)"
   ]
  },
  {
   "cell_type": "code",
   "execution_count": 9,
   "id": "56a284b1",
   "metadata": {},
   "outputs": [
    {
     "name": "stdout",
     "output_type": "stream",
     "text": [
      "15\n",
      "25\n",
      "45\n"
     ]
    }
   ],
   "source": [
    "def my_function(x):\n",
    "  return 5 * x\n",
    "\n",
    "print(my_function(3))\n",
    "print(my_function(5))\n",
    "print(my_function(9))\n"
   ]
  },
  {
   "cell_type": "code",
   "execution_count": 10,
   "id": "348c22cf",
   "metadata": {},
   "outputs": [
    {
     "name": "stdout",
     "output_type": "stream",
     "text": [
      "7\n",
      "9\n",
      "18\n",
      "6\n"
     ]
    }
   ],
   "source": [
    "def cal(x,y):\n",
    "    return x + y\n",
    "print(cal(3,4))\n",
    "print(cal(5,4))\n",
    "print(cal(12,6))\n",
    "print(cal(4,2))"
   ]
  },
  {
   "cell_type": "code",
   "execution_count": 11,
   "id": "0cfef795",
   "metadata": {},
   "outputs": [
    {
     "name": "stdout",
     "output_type": "stream",
     "text": [
      "\n",
      "\n",
      "Recursion Example Results\n",
      "1\n",
      "3\n",
      "6\n",
      "10\n",
      "15\n",
      "21\n"
     ]
    },
    {
     "data": {
      "text/plain": [
       "21"
      ]
     },
     "execution_count": 11,
     "metadata": {},
     "output_type": "execute_result"
    }
   ],
   "source": [
    "def tri_recursion(k):\n",
    "  if(k > 0):\n",
    "    result = k + tri_recursion(k - 1)\n",
    "    print(result)\n",
    "  else:\n",
    "    result = 0\n",
    "  return result\n",
    "\n",
    "print(\"\\n\\nRecursion Example Results\")\n",
    "tri_recursion(6)"
   ]
  },
  {
   "cell_type": "code",
   "execution_count": 15,
   "id": "c10f3512",
   "metadata": {},
   "outputs": [
    {
     "name": "stdout",
     "output_type": "stream",
     "text": [
      "Enter a value 2\n",
      "2 Even number \n"
     ]
    }
   ],
   "source": [
    "num = int(input(\"Enter a value \"))\n",
    "def oddeven(num):\n",
    "    if (num%2==0):\n",
    "        print(num,\"Even number \")\n",
    "    else:\n",
    "        print(num,\"Odd number\")\n",
    "oddeven(num)       "
   ]
  },
  {
   "cell_type": "code",
   "execution_count": 16,
   "id": "c56da722",
   "metadata": {},
   "outputs": [
    {
     "name": "stdout",
     "output_type": "stream",
     "text": [
      "Please enter the maximum number: 10\n",
      "1 is odd\n",
      "2 is even\n",
      "3 is odd\n",
      "4 is even\n",
      "5 is odd\n",
      "6 is even\n",
      "7 is odd\n",
      "8 is even\n",
      "9 is odd\n",
      "10 is even\n",
      "11 is odd\n"
     ]
    }
   ],
   "source": [
    "#Python program to print odd and even number from 1 to n\n",
    "max=int(input(\"Please enter the maximum number: \"));\n",
    "#Takes input from the user for variable max\n",
    "for number in range(1,max+2):\n",
    "    if(number%2 !=0):\n",
    "        print(number,\"is odd\")\n",
    "    else:\n",
    "        print(number,\"is even\",)"
   ]
  },
  {
   "cell_type": "code",
   "execution_count": 17,
   "id": "2fa697d0",
   "metadata": {},
   "outputs": [
    {
     "name": "stdout",
     "output_type": "stream",
     "text": [
      "Please enter any maximum value5\n",
      "1 is odd\n",
      "2 is even\n",
      "3 is odd\n",
      "4 is even\n",
      "5 is odd\n"
     ]
    }
   ],
   "source": [
    "#Python program to print odd and even number from 1 to n\n",
    "max=int(input(\"Please enter any maximum value\"))\n",
    "num=1\n",
    "while num<=max:\n",
    "    if(num%2!=0):\n",
    "        print(num,\"is odd\")\n",
    "    else:\n",
    "        print(num,\"is even\")\n",
    "    num=num+1"
   ]
  },
  {
   "cell_type": "code",
   "execution_count": 23,
   "id": "65c04907",
   "metadata": {},
   "outputs": [
    {
     "name": "stdout",
     "output_type": "stream",
     "text": [
      "Enter a number: 4\n",
      "The factorial of 4 is 24\n"
     ]
    }
   ],
   "source": [
    "def recur_factorial(n):  \n",
    "   if n == 1:  \n",
    "       return n  \n",
    "   else:  \n",
    "       return n*recur_factorial(n-1)  \n",
    "# take input from the user  \n",
    "num = int(input(\"Enter a number: \"))  \n",
    "# check is the number is negative  \n",
    "if num < 0:  \n",
    "   print(\"Sorry, factorial does not exist for negative numbers\")  \n",
    "elif num == 0:  \n",
    "   print(\"The factorial of 0 is 1\")  \n",
    "else:  \n",
    "   print(\"The factorial of\",num,\"is\",recur_factorial(num))  "
   ]
  },
  {
   "cell_type": "code",
   "execution_count": 25,
   "id": "4638a446",
   "metadata": {},
   "outputs": [
    {
     "name": "stdout",
     "output_type": "stream",
     "text": [
      "Enter value:7\n",
      "5040\n"
     ]
    }
   ],
   "source": [
    "def factorial(n):\n",
    "    if n==0:\n",
    "        return 1\n",
    "    else:\n",
    "        return n * factorial(n-1)\n",
    "n=int(input(\"Enter value:\"))\n",
    "print(factorial(n))\n",
    "    "
   ]
  },
  {
   "cell_type": "code",
   "execution_count": 26,
   "id": "7573bd5f",
   "metadata": {},
   "outputs": [
    {
     "name": "stdout",
     "output_type": "stream",
     "text": [
      "enter a number: 5\n",
      "factorial of  5  is  120\n"
     ]
    }
   ],
   "source": [
    "num = int(input(\"enter a number: \"))\n",
    " \n",
    "fac = 1\n",
    " \n",
    "for i in range(1, num + 1):\n",
    "\tfac = fac * i\n",
    " \n",
    "print(\"factorial of \", num, \" is \", fac)"
   ]
  },
  {
   "cell_type": "code",
   "execution_count": 32,
   "id": "c3681a4b",
   "metadata": {},
   "outputs": [
    {
     "name": "stdout",
     "output_type": "stream",
     "text": [
      "enter value5\n",
      "factorial of 5 is 120\n"
     ]
    }
   ],
   "source": [
    "num=int(input(\"enter value\"))\n",
    "fact = 1\n",
    "i = 1\n",
    "while i <= num :\n",
    "    fact = fact * i\n",
    "    i = i + 1\n",
    "print(\"factorial of\",num,\"is\",fact)   "
   ]
  },
  {
   "cell_type": "code",
   "execution_count": 33,
   "id": "e2dae8e2",
   "metadata": {},
   "outputs": [
    {
     "name": "stdout",
     "output_type": "stream",
     "text": [
      "Fibonacci sequence:\n",
      "0\n",
      "1\n",
      "1\n",
      "2\n",
      "3\n",
      "5\n",
      "8\n",
      "13\n",
      "21\n",
      "34\n"
     ]
    }
   ],
   "source": [
    "# Python program to display the Fibonacci sequence\n",
    "\n",
    "def recur_fibo(n):\n",
    "   if n <= 1:\n",
    "       return n\n",
    "   else:\n",
    "       return(recur_fibo(n-1) + recur_fibo(n-2))\n",
    "\n",
    "nterms = 10\n",
    "\n",
    "# check if the number of terms is valid\n",
    "if nterms <= 0:\n",
    "   print(\"Plese enter a positive integer\")\n",
    "else:\n",
    "   print(\"Fibonacci sequence:\")\n",
    "   for i in range(nterms):\n",
    "       print(recur_fibo(i))\n"
   ]
  },
  {
   "cell_type": "code",
   "execution_count": 35,
   "id": "b25d7a94",
   "metadata": {},
   "outputs": [
    {
     "name": "stdout",
     "output_type": "stream",
     "text": [
      "enter value=8\n",
      "[0, 1, 1, 2, 3, 5, 8, 13]\n"
     ]
    }
   ],
   "source": [
    "n = int(input(\"enter value=\"))\n",
    "fibonacci=[0,1]\n",
    "if n > 2:\n",
    "    for i in range(2,n):\n",
    "        n1=fibonacci[i-1]+fibonacci[i-2]\n",
    "        fibonacci.append(n1)\n",
    "print (fibonacci)        "
   ]
  },
  {
   "cell_type": "code",
   "execution_count": 1,
   "id": "315c7f38",
   "metadata": {},
   "outputs": [
    {
     "name": "stdout",
     "output_type": "stream",
     "text": [
      "x + y = 15\n",
      "x - y = 5\n",
      "x * y =  50\n",
      "x / y = 2.0\n",
      "x // y = 2\n",
      "x**y = 100000\n",
      "x > y is True\n",
      "x < y is False\n",
      "x==y is False\n",
      "x != y is True\n",
      " x >= y is True\n",
      "x <= y is False\n"
     ]
    }
   ],
   "source": [
    "#Operators in Python\n",
    "#Arthimetic Operators\n",
    "x = 10\n",
    "y =  5\n",
    "print(\"x + y =\",x + y)\n",
    "print(\"x - y =\",x - y)\n",
    "print(\"x * y = \",x * y)\n",
    "print(\"x / y =\",x / y)\n",
    "print(\"x // y =\",x // y)\n",
    "print(\"x**y =\", x**y)\n",
    "\n",
    "#Comparisons Operators\n",
    "print(\"x > y is\", x > y)\n",
    "print(\"x < y is\",x < y)\n",
    "print(\"x==y is\", x == y)\n",
    "print(\"x != y is\", x != y)\n",
    "print(\" x >= y is\", x >= y)\n",
    "print(\"x <= y is\", x <= y)\n",
    "\n"
   ]
  },
  {
   "cell_type": "code",
   "execution_count": 5,
   "id": "418ef07c",
   "metadata": {},
   "outputs": [
    {
     "name": "stdout",
     "output_type": "stream",
     "text": [
      "n3 is the largest number\n",
      "enter character:E\n",
      "E  is a vowel\n",
      "True\n",
      "False\n",
      "True\n",
      "False\n",
      "True\n",
      "True\n",
      "False\n"
     ]
    }
   ],
   "source": [
    "#Logical and Operator\n",
    "n1 = 10\n",
    "n2 = 20\n",
    "n3 = 30\n",
    "if n1 > n2 and n1 > n3:\n",
    "    print(\"n1 is the largest number\")\n",
    "if n2 > n1 and n2 > n3:\n",
    "     print(\"n2 is the largest number\")\n",
    "if n3 > n1 and n3 > n2:\n",
    "    print(\"n3 is the largest number\")\n",
    "    \n",
    "    \n",
    "#logical OR operator\n",
    "ch = input(\"enter character:\")\n",
    "if(ch=='A' or ch=='a' or ch=='E' or ch=='e' or ch=='I' or ch=='i' or ch=='O' or ch=='o' or ch=='U' or ch=='u'):\n",
    "     print(ch,\" is a vowel\")\n",
    "else:\n",
    "    print(ch,\"is a constant\")\n",
    "    \n",
    "#Python Identity Operators\n",
    "x = [\"apple\", \"banana\"]\n",
    "y = [\"apple\", \"banana\"]\n",
    "z = x\n",
    "print(x is z)\n",
    "print(x is y)\n",
    "print(x is not y)\n",
    "print(x is not z)\n",
    "\n",
    "\n",
    "#Python Membership Operators\n",
    "x = 3\n",
    "y =21\n",
    "list1= [10,20,6,3,21,89]\n",
    "print( x in list1)\n",
    "print(y in list1)\n",
    "print(y not in list1)\n",
    "\n",
    "#"
   ]
  },
  {
   "cell_type": "code",
   "execution_count": null,
   "id": "c36e56c0",
   "metadata": {},
   "outputs": [],
   "source": []
  }
 ],
 "metadata": {
  "kernelspec": {
   "display_name": "Python 3",
   "language": "python",
   "name": "python3"
  },
  "language_info": {
   "codemirror_mode": {
    "name": "ipython",
    "version": 3
   },
   "file_extension": ".py",
   "mimetype": "text/x-python",
   "name": "python",
   "nbconvert_exporter": "python",
   "pygments_lexer": "ipython3",
   "version": "3.9.4"
  }
 },
 "nbformat": 4,
 "nbformat_minor": 5
}
